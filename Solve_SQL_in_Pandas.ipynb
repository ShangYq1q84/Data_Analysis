{
 "cells": [
  {
   "cell_type": "markdown",
   "id": "ec3fc1d1",
   "metadata": {},
   "source": [
    "# Problem 1"
   ]
  },
  {
   "cell_type": "code",
   "execution_count": 3,
   "id": "176cd008",
   "metadata": {},
   "outputs": [],
   "source": [
    "import pandas as pd"
   ]
  },
  {
   "cell_type": "markdown",
   "id": "b9288b46",
   "metadata": {},
   "source": [
    "### 1. 统计每个班同学各科成绩平均分大于80分的人数和人数占比（先计算每个同学各科平均分，在计算占比）\n",
    "### 1. Count the number of students in each class whose average score is larger than 80. Average score is the mean score of all subjects."
   ]
  },
  {
   "cell_type": "code",
   "execution_count": 8,
   "id": "e098de4c",
   "metadata": {},
   "outputs": [],
   "source": [
    "tb_student={'name': ['Joey','Ross','Jane'], 'id': ['2017C3301001','2017C3301002','2017C3301003'], \n",
    "            'class': ['2017C3301','2017C3301','2017C3301'], 'in_time' : [2017,2017,2017],\n",
    "            'age' : [18,19,20], 'sex' : ['M','M','F'], 'major' :['computer','computer','computer']}\n",
    "tb_student=pd.DataFrame(tb_student)\n",
    "tb_score={\"id\":[\"2017C3301001\",\"2017C3301001\",\"2017C3301002\",\"2017C3301002\",\"2017C3301003\",\"2017C3301003\"],\n",
    "    \"course\":[\"math\",\"database\",\"math\",\"database\",\"math\",\"database\"],\n",
    "    \"score\":[76,78,85,90,80,85]}\n",
    "tb_score=pd.DataFrame(tb_score)"
   ]
  },
  {
   "cell_type": "code",
   "execution_count": 9,
   "id": "d478a9cf",
   "metadata": {},
   "outputs": [
    {
     "data": {
      "text/html": [
       "<div>\n",
       "<style scoped>\n",
       "    .dataframe tbody tr th:only-of-type {\n",
       "        vertical-align: middle;\n",
       "    }\n",
       "\n",
       "    .dataframe tbody tr th {\n",
       "        vertical-align: top;\n",
       "    }\n",
       "\n",
       "    .dataframe thead th {\n",
       "        text-align: right;\n",
       "    }\n",
       "</style>\n",
       "<table border=\"1\" class=\"dataframe\">\n",
       "  <thead>\n",
       "    <tr style=\"text-align: right;\">\n",
       "      <th></th>\n",
       "      <th>name</th>\n",
       "      <th>id</th>\n",
       "      <th>class</th>\n",
       "      <th>in_time</th>\n",
       "      <th>age</th>\n",
       "      <th>sex</th>\n",
       "      <th>major</th>\n",
       "    </tr>\n",
       "  </thead>\n",
       "  <tbody>\n",
       "    <tr>\n",
       "      <th>0</th>\n",
       "      <td>Joey</td>\n",
       "      <td>2017C3301001</td>\n",
       "      <td>2017C3301</td>\n",
       "      <td>2017</td>\n",
       "      <td>18</td>\n",
       "      <td>M</td>\n",
       "      <td>computer</td>\n",
       "    </tr>\n",
       "    <tr>\n",
       "      <th>1</th>\n",
       "      <td>Ross</td>\n",
       "      <td>2017C3301002</td>\n",
       "      <td>2017C3301</td>\n",
       "      <td>2017</td>\n",
       "      <td>19</td>\n",
       "      <td>M</td>\n",
       "      <td>computer</td>\n",
       "    </tr>\n",
       "    <tr>\n",
       "      <th>2</th>\n",
       "      <td>Jane</td>\n",
       "      <td>2017C3301003</td>\n",
       "      <td>2017C3301</td>\n",
       "      <td>2017</td>\n",
       "      <td>20</td>\n",
       "      <td>F</td>\n",
       "      <td>computer</td>\n",
       "    </tr>\n",
       "  </tbody>\n",
       "</table>\n",
       "</div>"
      ],
      "text/plain": [
       "   name            id      class  in_time  age sex     major\n",
       "0  Joey  2017C3301001  2017C3301     2017   18   M  computer\n",
       "1  Ross  2017C3301002  2017C3301     2017   19   M  computer\n",
       "2  Jane  2017C3301003  2017C3301     2017   20   F  computer"
      ]
     },
     "execution_count": 9,
     "metadata": {},
     "output_type": "execute_result"
    }
   ],
   "source": [
    "tb_student"
   ]
  },
  {
   "cell_type": "code",
   "execution_count": 10,
   "id": "ecd3366f",
   "metadata": {},
   "outputs": [
    {
     "data": {
      "text/html": [
       "<div>\n",
       "<style scoped>\n",
       "    .dataframe tbody tr th:only-of-type {\n",
       "        vertical-align: middle;\n",
       "    }\n",
       "\n",
       "    .dataframe tbody tr th {\n",
       "        vertical-align: top;\n",
       "    }\n",
       "\n",
       "    .dataframe thead th {\n",
       "        text-align: right;\n",
       "    }\n",
       "</style>\n",
       "<table border=\"1\" class=\"dataframe\">\n",
       "  <thead>\n",
       "    <tr style=\"text-align: right;\">\n",
       "      <th></th>\n",
       "      <th>id</th>\n",
       "      <th>course</th>\n",
       "      <th>score</th>\n",
       "    </tr>\n",
       "  </thead>\n",
       "  <tbody>\n",
       "    <tr>\n",
       "      <th>0</th>\n",
       "      <td>2017C3301001</td>\n",
       "      <td>math</td>\n",
       "      <td>76</td>\n",
       "    </tr>\n",
       "    <tr>\n",
       "      <th>1</th>\n",
       "      <td>2017C3301001</td>\n",
       "      <td>database</td>\n",
       "      <td>78</td>\n",
       "    </tr>\n",
       "    <tr>\n",
       "      <th>2</th>\n",
       "      <td>2017C3301002</td>\n",
       "      <td>math</td>\n",
       "      <td>85</td>\n",
       "    </tr>\n",
       "    <tr>\n",
       "      <th>3</th>\n",
       "      <td>2017C3301002</td>\n",
       "      <td>database</td>\n",
       "      <td>90</td>\n",
       "    </tr>\n",
       "    <tr>\n",
       "      <th>4</th>\n",
       "      <td>2017C3301003</td>\n",
       "      <td>math</td>\n",
       "      <td>80</td>\n",
       "    </tr>\n",
       "    <tr>\n",
       "      <th>5</th>\n",
       "      <td>2017C3301003</td>\n",
       "      <td>database</td>\n",
       "      <td>85</td>\n",
       "    </tr>\n",
       "  </tbody>\n",
       "</table>\n",
       "</div>"
      ],
      "text/plain": [
       "             id    course  score\n",
       "0  2017C3301001      math     76\n",
       "1  2017C3301001  database     78\n",
       "2  2017C3301002      math     85\n",
       "3  2017C3301002  database     90\n",
       "4  2017C3301003      math     80\n",
       "5  2017C3301003  database     85"
      ]
     },
     "execution_count": 10,
     "metadata": {},
     "output_type": "execute_result"
    }
   ],
   "source": [
    "tb_score"
   ]
  },
  {
   "cell_type": "code",
   "execution_count": 11,
   "id": "bdb515dc",
   "metadata": {},
   "outputs": [
    {
     "data": {
      "text/plain": [
       "class\n",
       "2017C3301    2\n",
       "dtype: int64"
      ]
     },
     "execution_count": 11,
     "metadata": {},
     "output_type": "execute_result"
    }
   ],
   "source": [
    "mean_score=tb_score.groupby(['id'],as_index=False)['score'].mean() \n",
    "student_with_mean_score=pd.merge(tb_student,mean_score,on='id')\n",
    "student_with_mean_score[student_with_mean_score['score']>80].groupby('class').size()"
   ]
  },
  {
   "cell_type": "markdown",
   "id": "383aca07",
   "metadata": {},
   "source": [
    "### 2. 统计出班级“2017C3301”同学中“数据库”成绩分布数据（平均分按照10分分段，例如：成绩(90-100)分的、10人）\n",
    "### 2. Give the 'database' score distribution of students in class '2017C3301'"
   ]
  },
  {
   "cell_type": "code",
   "execution_count": 12,
   "id": "767c5a82",
   "metadata": {},
   "outputs": [
    {
     "data": {
      "text/plain": [
       "unqualified    0\n",
       "(60,70]        0\n",
       "(70,80]        3\n",
       "(80,90]        3\n",
       "(90,100]       0\n",
       "Name: score, dtype: int64"
      ]
     },
     "execution_count": 12,
     "metadata": {},
     "output_type": "execute_result"
    }
   ],
   "source": [
    "data_cut=pd.cut(tb_score['score'],[0, 60, 70, 80, 90, 100], labels= [u'unqualified',u'(60,70]', u'(70,80]', u'(80,90]', u'(90,100]' ])\n",
    "distribution=data_cut.value_counts()\n",
    "result=distribution.sort_index()\n",
    "result"
   ]
  },
  {
   "cell_type": "markdown",
   "id": "93f2c77f",
   "metadata": {},
   "source": [
    "# Problem 2"
   ]
  },
  {
   "cell_type": "markdown",
   "id": "4b10b007",
   "metadata": {},
   "source": [
    "### 1. 在下表中，统计出每位同学的每门课程最近一次考试的成绩（如李三最近一次的语文考试成绩是75分）\n",
    "### 1. Give the latest score of every courses of each student"
   ]
  },
  {
   "cell_type": "code",
   "execution_count": 14,
   "id": "f6b33a63",
   "metadata": {},
   "outputs": [
    {
     "data": {
      "text/html": [
       "<div>\n",
       "<style scoped>\n",
       "    .dataframe tbody tr th:only-of-type {\n",
       "        vertical-align: middle;\n",
       "    }\n",
       "\n",
       "    .dataframe tbody tr th {\n",
       "        vertical-align: top;\n",
       "    }\n",
       "\n",
       "    .dataframe thead th {\n",
       "        text-align: right;\n",
       "    }\n",
       "</style>\n",
       "<table border=\"1\" class=\"dataframe\">\n",
       "  <thead>\n",
       "    <tr style=\"text-align: right;\">\n",
       "      <th></th>\n",
       "      <th>name</th>\n",
       "      <th>course</th>\n",
       "      <th>score</th>\n",
       "      <th>time</th>\n",
       "    </tr>\n",
       "  </thead>\n",
       "  <tbody>\n",
       "    <tr>\n",
       "      <th>3</th>\n",
       "      <td>joey</td>\n",
       "      <td>geo</td>\n",
       "      <td>65</td>\n",
       "      <td>2020-01-03</td>\n",
       "    </tr>\n",
       "    <tr>\n",
       "      <th>2</th>\n",
       "      <td>joey</td>\n",
       "      <td>math</td>\n",
       "      <td>87</td>\n",
       "      <td>2020-02-03</td>\n",
       "    </tr>\n",
       "  </tbody>\n",
       "</table>\n",
       "</div>"
      ],
      "text/plain": [
       "   name course  score        time\n",
       "3  joey    geo     65  2020-01-03\n",
       "2  joey   math     87  2020-02-03"
      ]
     },
     "execution_count": 14,
     "metadata": {},
     "output_type": "execute_result"
    }
   ],
   "source": [
    "student_score={'name':['joey','joey','joey','joey','joey'],'course':['math','math','math','geo','geo'],\n",
    "               'score':[78,45,87,65,84],'time':['2020-04-03','2020-04-03',\n",
    "                                              '2020-02-03','2020-01-03',\n",
    "                                              '2020-06-03']}\n",
    "student_score=pd.DataFrame(student_score)\n",
    "student_score.sort_values(by=['name','course','time'],inplace=True)\n",
    "student_score.groupby(['name','course']).tail(1) #最远的时间 ; the nearest\n",
    "student_score.groupby(['name','course']).head(1) #最近的时间 ; the farest "
   ]
  },
  {
   "cell_type": "code",
   "execution_count": null,
   "id": "91973104",
   "metadata": {},
   "outputs": [],
   "source": []
  }
 ],
 "metadata": {
  "kernelspec": {
   "display_name": "Python 3 (ipykernel)",
   "language": "python",
   "name": "python3"
  },
  "language_info": {
   "codemirror_mode": {
    "name": "ipython",
    "version": 3
   },
   "file_extension": ".py",
   "mimetype": "text/x-python",
   "name": "python",
   "nbconvert_exporter": "python",
   "pygments_lexer": "ipython3",
   "version": "3.9.7"
  }
 },
 "nbformat": 4,
 "nbformat_minor": 5
}
